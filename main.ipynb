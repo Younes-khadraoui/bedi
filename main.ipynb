{
 "cells": [
  {
   "cell_type": "markdown",
   "metadata": {},
   "source": [
    "### App to find rare illnesses in ADN datasets using mongodb and apache spark"
   ]
  },
  {
   "cell_type": "code",
   "execution_count": 11,
   "metadata": {},
   "outputs": [
    {
     "name": "stdout",
     "output_type": "stream",
     "text": [
      "Requirement already satisfied: pymongo in ./.venv/lib/python3.10/site-packages (4.12.0)\n",
      "Requirement already satisfied: dnspython<3.0.0,>=1.16.0 in ./.venv/lib/python3.10/site-packages (from pymongo) (2.7.0)\n",
      "Note: you may need to restart the kernel to use updated packages.\n",
      "Requirement already satisfied: pyspark in ./.venv/lib/python3.10/site-packages (3.5.5)\n",
      "Requirement already satisfied: py4j==0.10.9.7 in ./.venv/lib/python3.10/site-packages (from pyspark) (0.10.9.7)\n",
      "Note: you may need to restart the kernel to use updated packages.\n",
      "Collecting pandas\n",
      "  Downloading pandas-2.2.3-cp310-cp310-manylinux_2_17_x86_64.manylinux2014_x86_64.whl.metadata (89 kB)\n",
      "Collecting numpy>=1.22.4 (from pandas)\n",
      "  Downloading numpy-2.2.4-cp310-cp310-manylinux_2_17_x86_64.manylinux2014_x86_64.whl.metadata (62 kB)\n",
      "Requirement already satisfied: python-dateutil>=2.8.2 in ./.venv/lib/python3.10/site-packages (from pandas) (2.9.0.post0)\n",
      "Collecting pytz>=2020.1 (from pandas)\n",
      "  Downloading pytz-2025.2-py2.py3-none-any.whl.metadata (22 kB)\n",
      "Collecting tzdata>=2022.7 (from pandas)\n",
      "  Downloading tzdata-2025.2-py2.py3-none-any.whl.metadata (1.4 kB)\n",
      "Requirement already satisfied: six>=1.5 in ./.venv/lib/python3.10/site-packages (from python-dateutil>=2.8.2->pandas) (1.17.0)\n",
      "Downloading pandas-2.2.3-cp310-cp310-manylinux_2_17_x86_64.manylinux2014_x86_64.whl (13.1 MB)\n",
      "\u001b[2K   \u001b[38;2;114;156;31m━━━━━━━━━━━━━━━━━━━━━━━━━━━━━━━━━━━━━━━━\u001b[0m \u001b[32m13.1/13.1 MB\u001b[0m \u001b[31m350.1 kB/s\u001b[0m eta \u001b[36m0:00:00\u001b[0m[36m0:00:01\u001b[0mm eta \u001b[36m0:00:02\u001b[0m\n",
      "\u001b[?25hDownloading numpy-2.2.4-cp310-cp310-manylinux_2_17_x86_64.manylinux2014_x86_64.whl (16.4 MB)\n",
      "\u001b[2K   \u001b[38;2;114;156;31m━━━━━━━━━━━━━━━━━━━━━━━━━━━━━━━━━━━━━━━━\u001b[0m \u001b[32m16.4/16.4 MB\u001b[0m \u001b[31m141.9 kB/s\u001b[0m eta \u001b[36m0:00:00\u001b[0mm eta \u001b[36m0:00:02\u001b[0m[36m0:00:04\u001b[0m\n",
      "\u001b[?25hDownloading pytz-2025.2-py2.py3-none-any.whl (509 kB)\n",
      "Downloading tzdata-2025.2-py2.py3-none-any.whl (347 kB)\n",
      "Installing collected packages: pytz, tzdata, numpy, pandas\n",
      "Successfully installed numpy-2.2.4 pandas-2.2.3 pytz-2025.2 tzdata-2025.2\n",
      "Note: you may need to restart the kernel to use updated packages.\n"
     ]
    }
   ],
   "source": [
    "%pip install pymongo\n",
    "%pip install pyspark\n",
    "%pip install pandas"
   ]
  },
  {
   "cell_type": "code",
   "execution_count": null,
   "metadata": {},
   "outputs": [],
   "source": [
    "import pandas as pd\n",
    "from pymongo import MongoClient"
   ]
  },
  {
   "cell_type": "code",
   "execution_count": 22,
   "metadata": {},
   "outputs": [
    {
     "name": "stdout",
     "output_type": "stream",
     "text": [
      "ADN data already exists.\n",
      "Illness data already exists.\n"
     ]
    }
   ],
   "source": [
    "client = MongoClient(\"mongodb://localhost:27017/\")\n",
    "\n",
    "adn_db = client[\"adn_db\"]\n",
    "illness_db = client[\"illness_db\"]\n",
    "\n",
    "adn_col = adn_db[\"sequences\"]\n",
    "illness_col = illness_db[\"rare_illnesses\"]\n",
    "\n",
    "adn_exists = adn_col.estimated_document_count() > 0\n",
    "illness_exists = illness_col.estimated_document_count() > 0\n",
    "\n",
    "if not adn_exists:\n",
    "    print(\"Inserting ADN data...\")\n",
    "    adn_data = [\n",
    "        {\"sample_id\": \"S001\", \"sequence\": \"ATGCGTACGTAGCTAG\", \"source\": \"Patient A\"},\n",
    "        {\"sample_id\": \"S002\", \"sequence\": \"CGTAGCTAGCTAGCTA\", \"source\": \"Patient B\"},\n",
    "    ]\n",
    "    adn_col.insert_many(adn_data)\n",
    "    print(\"ADN data inserted.\")\n",
    "else:\n",
    "    print(\"ADN data already exists.\")\n",
    "\n",
    "if not illness_exists:\n",
    "    print(\"Inserting illness data...\")\n",
    "    illness_data = [\n",
    "        {\n",
    "            \"name\": \"Cystic Fibrosis\",\n",
    "            \"symptoms\": \"Persistent cough, lung infections, poor growth\",\n",
    "            \"related_genes\": \"CFTR\",\n",
    "        },\n",
    "        {\n",
    "            \"name\": \"Huntington's Disease\",\n",
    "            \"symptoms\": \"Movement issues, cognitive decline, psychiatric problems\",\n",
    "            \"related_genes\": \"HTT\",\n",
    "        },\n",
    "        {\n",
    "            \"name\": \"Tay-Sachs Disease\",\n",
    "            \"symptoms\": \"Muscle weakness, seizures, vision and hearing loss\",\n",
    "            \"related_genes\": \"HEXA\",\n",
    "        },\n",
    "    ]\n",
    "    df = pd.DataFrame(illness_data)\n",
    "    df = df.head(10).rename(columns={\"State\": \"name\"})\n",
    "    df[\"symptoms\"] = \"Symptom 1, Symptom 2\"\n",
    "    df[\"related_genes\"] = \"GENE1, GENE2\"\n",
    "    illness_data = df[[\"name\", \"symptoms\", \"related_genes\"]].to_dict(orient=\"records\")\n",
    "    illness_col.insert_many(illness_data)\n",
    "    print(\"Illness data inserted.\")\n",
    "else:\n",
    "    print(\"Illness data already exists.\")\n"
   ]
  },
  {
   "cell_type": "code",
   "execution_count": 25,
   "metadata": {},
   "outputs": [
    {
     "name": "stdout",
     "output_type": "stream",
     "text": [
      "{'_id': ObjectId('67fda572c260f93aa1da86cf'), 'sample_id': 'S001', 'sequence': 'ATGCGTACGTAGCTAG', 'source': 'Patient A'}\n",
      "{'_id': ObjectId('67fda572c260f93aa1da86d0'), 'sample_id': 'S002', 'sequence': 'CGTAGCTAGCTAGCTA', 'source': 'Patient B'}\n"
     ]
    },
    {
     "data": {
      "text/html": [
       "<div>\n",
       "<style scoped>\n",
       "    .dataframe tbody tr th:only-of-type {\n",
       "        vertical-align: middle;\n",
       "    }\n",
       "\n",
       "    .dataframe tbody tr th {\n",
       "        vertical-align: top;\n",
       "    }\n",
       "\n",
       "    .dataframe thead th {\n",
       "        text-align: right;\n",
       "    }\n",
       "</style>\n",
       "<table border=\"1\" class=\"dataframe\">\n",
       "  <thead>\n",
       "    <tr style=\"text-align: right;\">\n",
       "      <th></th>\n",
       "      <th>_id</th>\n",
       "      <th>sample_id</th>\n",
       "      <th>sequence</th>\n",
       "      <th>source</th>\n",
       "    </tr>\n",
       "  </thead>\n",
       "  <tbody>\n",
       "    <tr>\n",
       "      <th>0</th>\n",
       "      <td>67fda572c260f93aa1da86cf</td>\n",
       "      <td>S001</td>\n",
       "      <td>ATGCGTACGTAGCTAG</td>\n",
       "      <td>Patient A</td>\n",
       "    </tr>\n",
       "    <tr>\n",
       "      <th>1</th>\n",
       "      <td>67fda572c260f93aa1da86d0</td>\n",
       "      <td>S002</td>\n",
       "      <td>CGTAGCTAGCTAGCTA</td>\n",
       "      <td>Patient B</td>\n",
       "    </tr>\n",
       "  </tbody>\n",
       "</table>\n",
       "</div>"
      ],
      "text/plain": [
       "                        _id sample_id          sequence     source\n",
       "0  67fda572c260f93aa1da86cf      S001  ATGCGTACGTAGCTAG  Patient A\n",
       "1  67fda572c260f93aa1da86d0      S002  CGTAGCTAGCTAGCTA  Patient B"
      ]
     },
     "metadata": {},
     "output_type": "display_data"
    },
    {
     "data": {
      "text/html": [
       "<div>\n",
       "<style scoped>\n",
       "    .dataframe tbody tr th:only-of-type {\n",
       "        vertical-align: middle;\n",
       "    }\n",
       "\n",
       "    .dataframe tbody tr th {\n",
       "        vertical-align: top;\n",
       "    }\n",
       "\n",
       "    .dataframe thead th {\n",
       "        text-align: right;\n",
       "    }\n",
       "</style>\n",
       "<table border=\"1\" class=\"dataframe\">\n",
       "  <thead>\n",
       "    <tr style=\"text-align: right;\">\n",
       "      <th></th>\n",
       "      <th>_id</th>\n",
       "      <th>name</th>\n",
       "      <th>symptoms</th>\n",
       "      <th>related_genes</th>\n",
       "    </tr>\n",
       "  </thead>\n",
       "  <tbody>\n",
       "    <tr>\n",
       "      <th>0</th>\n",
       "      <td>67fda63fc260f93aa1da86d6</td>\n",
       "      <td>Cystic Fibrosis</td>\n",
       "      <td>Symptom 1, Symptom 2</td>\n",
       "      <td>GENE1, GENE2</td>\n",
       "    </tr>\n",
       "    <tr>\n",
       "      <th>1</th>\n",
       "      <td>67fda63fc260f93aa1da86d7</td>\n",
       "      <td>Huntington's Disease</td>\n",
       "      <td>Symptom 1, Symptom 2</td>\n",
       "      <td>GENE1, GENE2</td>\n",
       "    </tr>\n",
       "    <tr>\n",
       "      <th>2</th>\n",
       "      <td>67fda63fc260f93aa1da86d8</td>\n",
       "      <td>Tay-Sachs Disease</td>\n",
       "      <td>Symptom 1, Symptom 2</td>\n",
       "      <td>GENE1, GENE2</td>\n",
       "    </tr>\n",
       "  </tbody>\n",
       "</table>\n",
       "</div>"
      ],
      "text/plain": [
       "                        _id                  name              symptoms  \\\n",
       "0  67fda63fc260f93aa1da86d6       Cystic Fibrosis  Symptom 1, Symptom 2   \n",
       "1  67fda63fc260f93aa1da86d7  Huntington's Disease  Symptom 1, Symptom 2   \n",
       "2  67fda63fc260f93aa1da86d8     Tay-Sachs Disease  Symptom 1, Symptom 2   \n",
       "\n",
       "  related_genes  \n",
       "0  GENE1, GENE2  \n",
       "1  GENE1, GENE2  \n",
       "2  GENE1, GENE2  "
      ]
     },
     "metadata": {},
     "output_type": "display_data"
    }
   ],
   "source": [
    "for doc in adn_col.find():\n",
    "    print(doc)\n",
    "\n",
    "df_adn = pd.DataFrame(list(adn_col.find()))\n",
    "display(df_adn)\n",
    "\n",
    "df_illness = pd.DataFrame(list(illness_col.find()))\n",
    "display(df_illness)\n"
   ]
  }
 ],
 "metadata": {
  "kernelspec": {
   "display_name": ".venv",
   "language": "python",
   "name": "python3"
  },
  "language_info": {
   "codemirror_mode": {
    "name": "ipython",
    "version": 3
   },
   "file_extension": ".py",
   "mimetype": "text/x-python",
   "name": "python",
   "nbconvert_exporter": "python",
   "pygments_lexer": "ipython3",
   "version": "3.10.16"
  }
 },
 "nbformat": 4,
 "nbformat_minor": 2
}
